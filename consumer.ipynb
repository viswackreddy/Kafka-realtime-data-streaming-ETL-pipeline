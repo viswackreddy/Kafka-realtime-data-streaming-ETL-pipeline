{
 "cells": [
  {
   "cell_type": "code",
   "execution_count": null,
   "metadata": {
    "vscode": {
     "languageId": "plaintext"
    }
   },
   "outputs": [],
   "source": [
    "import json\n",
    "import csv\n",
    "import boto3\n",
    "from datetime import datetime\n",
    "from confluent_kafka import Consumer\n",
    "\n",
    "\n",
    "KAFKA_BROKER = \"3.133.95.1:9092\"\n",
    "KAFKA_TOPIC = \"finnhub_profiles\"\n",
    "S3_BUCKET_NAME = \"realtimestockmarketdata\"\n",
    "\n",
    "# Initialize Kafka consumer\n",
    "consumer = Consumer({\n",
    "    \"bootstrap.servers\": KAFKA_BROKER,\n",
    "    \"group.id\": \"finnhub_consumer_group\",\n",
    "    \"auto.offset.reset\": \"earliest\"\n",
    "})\n",
    "consumer.subscribe([KAFKA_TOPIC])\n",
    "\n",
    "profiles = []\n",
    "\n",
    "try:\n",
    "    print(\"🟢 Waiting for messages from Kafka...\")\n",
    "    while True:\n",
    "        msg = consumer.poll(1.0)  # timeout 1 second\n",
    "        if msg is None:\n",
    "            continue\n",
    "        if msg.error():\n",
    "            print(f\"Consumer error: {msg.error()}\")\n",
    "            continue\n",
    "\n",
    "        data = json.loads(msg.value().decode(\"utf-8\"))\n",
    "        profiles.append(data)\n",
    "        print(f\"Received profile: {data['symbol']}\")\n",
    "\n",
    "        # Optional: Save every 50 messages or after all messages\n",
    "        if len(profiles) >= 50:\n",
    "            break\n",
    "finally:\n",
    "    consumer.close()\n",
    "\n",
    "# Save to CSV\n",
    "filename = f\"finnhub_profiles_{datetime.now().strftime('%Y%m%d_%H%M%S')}.csv\"\n",
    "with open(filename, mode=\"w\", newline=\"\", encoding=\"utf-8\") as file:\n",
    "    writer = csv.DictWriter(file, fieldnames=[\"symbol\", \"name\", \"exchange\", \"industry\", \"website\"])\n",
    "    writer.writeheader()\n",
    "    writer.writerows(profiles)\n",
    "print(f\"✅ Saved {len(profiles)} profiles to CSV: {filename}\")\n",
    "\n",
    "# Upload to S3\n",
    "try:\n",
    "    s3 = boto3.client(\"s3\")\n",
    "    s3.upload_file(filename, S3_BUCKET_NAME, filename)\n",
    "    print(f\"✅ Uploaded CSV to S3 bucket '{S3_BUCKET_NAME}'\")\n",
    "except Exception as e:\n",
    "    print(f\"❌ Failed to upload CSV to S3: {e}\")\n"
   ]
  }
 ],
 "metadata": {
  "language_info": {
   "name": "python"
  }
 },
 "nbformat": 4,
 "nbformat_minor": 2
}
